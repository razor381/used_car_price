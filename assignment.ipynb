{
  "nbformat": 4,
  "nbformat_minor": 0,
  "metadata": {
    "colab": {
      "name": "Untitled4.ipynb",
      "provenance": [],
      "collapsed_sections": []
    },
    "kernelspec": {
      "name": "python3",
      "display_name": "Python 3"
    }
  },
  "cells": [
    {
      "cell_type": "code",
      "metadata": {
        "id": "Og78TGILdKbe"
      },
      "source": [
        "import pandas as pd\n",
        "import matplotlib.pyplot as plt\n",
        "import seaborn as sb\n",
        "import numpy as np\n"
      ],
      "execution_count": 212,
      "outputs": []
    },
    {
      "cell_type": "code",
      "metadata": {
        "id": "CtDf1YGid2Gr",
        "outputId": "ed9572ac-b49a-4510-d2ad-dc21b88a4341",
        "colab": {
          "base_uri": "https://localhost:8080/",
          "height": 206
        }
      },
      "source": [
        "df = pd.read_excel('ScrappedData.xlsx')\n",
        "df.head()"
      ],
      "execution_count": 213,
      "outputs": [
        {
          "output_type": "execute_result",
          "data": {
            "text/html": [
              "<div>\n",
              "<style scoped>\n",
              "    .dataframe tbody tr th:only-of-type {\n",
              "        vertical-align: middle;\n",
              "    }\n",
              "\n",
              "    .dataframe tbody tr th {\n",
              "        vertical-align: top;\n",
              "    }\n",
              "\n",
              "    .dataframe thead th {\n",
              "        text-align: right;\n",
              "    }\n",
              "</style>\n",
              "<table border=\"1\" class=\"dataframe\">\n",
              "  <thead>\n",
              "    <tr style=\"text-align: right;\">\n",
              "      <th></th>\n",
              "      <th>Brand</th>\n",
              "      <th>Model</th>\n",
              "      <th>Model_year</th>\n",
              "      <th>Transmission</th>\n",
              "      <th>Engine_size(cc)</th>\n",
              "      <th>Drivetrain</th>\n",
              "      <th>Fuel_type</th>\n",
              "      <th>Colour</th>\n",
              "      <th>Lot_no</th>\n",
              "      <th>Kilometer</th>\n",
              "      <th>Status</th>\n",
              "      <th>Price</th>\n",
              "    </tr>\n",
              "  </thead>\n",
              "  <tbody>\n",
              "    <tr>\n",
              "      <th>0</th>\n",
              "      <td>Chevrolet</td>\n",
              "      <td>aveo</td>\n",
              "      <td>2009.0</td>\n",
              "      <td>Manual</td>\n",
              "      <td>1150.0</td>\n",
              "      <td>2WD</td>\n",
              "      <td>Petrol</td>\n",
              "      <td>golden</td>\n",
              "      <td>6.0</td>\n",
              "      <td>200</td>\n",
              "      <td>USED</td>\n",
              "      <td>Rs. 975000</td>\n",
              "    </tr>\n",
              "    <tr>\n",
              "      <th>1</th>\n",
              "      <td>Chevrolet</td>\n",
              "      <td>captiva</td>\n",
              "      <td>2015.0</td>\n",
              "      <td>Automatic</td>\n",
              "      <td>2000.0</td>\n",
              "      <td>4WD</td>\n",
              "      <td>Diesel</td>\n",
              "      <td>Grey</td>\n",
              "      <td>8.0</td>\n",
              "      <td>100</td>\n",
              "      <td>USED</td>\n",
              "      <td>Rs. 3000000</td>\n",
              "    </tr>\n",
              "    <tr>\n",
              "      <th>2</th>\n",
              "      <td>Chevrolet</td>\n",
              "      <td>aveo</td>\n",
              "      <td>2009.0</td>\n",
              "      <td>Manual</td>\n",
              "      <td>1150.0</td>\n",
              "      <td>2WD</td>\n",
              "      <td>Petrol</td>\n",
              "      <td>golden</td>\n",
              "      <td>6.0</td>\n",
              "      <td>42000</td>\n",
              "      <td>USED</td>\n",
              "      <td>Rs. 975000</td>\n",
              "    </tr>\n",
              "    <tr>\n",
              "      <th>3</th>\n",
              "      <td>Chevrolet</td>\n",
              "      <td>captiva</td>\n",
              "      <td>2010.0</td>\n",
              "      <td>Automatic</td>\n",
              "      <td>2000.0</td>\n",
              "      <td>4WD</td>\n",
              "      <td>Diesel</td>\n",
              "      <td>Grey</td>\n",
              "      <td>8.0</td>\n",
              "      <td>51000</td>\n",
              "      <td>USED</td>\n",
              "      <td>Rs. 3000000</td>\n",
              "    </tr>\n",
              "    <tr>\n",
              "      <th>4</th>\n",
              "      <td>Chevrolet</td>\n",
              "      <td>spark</td>\n",
              "      <td>2012.0</td>\n",
              "      <td>Manual</td>\n",
              "      <td>1000.0</td>\n",
              "      <td>2WD</td>\n",
              "      <td>Petrol</td>\n",
              "      <td>Sky Blue</td>\n",
              "      <td>9.0</td>\n",
              "      <td>38000</td>\n",
              "      <td>USED</td>\n",
              "      <td>Rs. 1000000</td>\n",
              "    </tr>\n",
              "  </tbody>\n",
              "</table>\n",
              "</div>"
            ],
            "text/plain": [
              "       Brand    Model  Model_year  ... Kilometer  Status        Price\n",
              "0  Chevrolet     aveo      2009.0  ...       200    USED   Rs. 975000\n",
              "1  Chevrolet  captiva      2015.0  ...       100    USED  Rs. 3000000\n",
              "2  Chevrolet     aveo      2009.0  ...     42000    USED   Rs. 975000\n",
              "3  Chevrolet  captiva      2010.0  ...     51000    USED  Rs. 3000000\n",
              "4  Chevrolet    spark      2012.0  ...     38000    USED  Rs. 1000000\n",
              "\n",
              "[5 rows x 12 columns]"
            ]
          },
          "metadata": {
            "tags": []
          },
          "execution_count": 213
        }
      ]
    },
    {
      "cell_type": "code",
      "metadata": {
        "id": "BHw37rFc3q_k",
        "outputId": "d020f8c4-ba30-45e5-c9e2-7c411ebaaaf6",
        "colab": {
          "base_uri": "https://localhost:8080/",
          "height": 300
        }
      },
      "source": [
        "df.describe()"
      ],
      "execution_count": 214,
      "outputs": [
        {
          "output_type": "execute_result",
          "data": {
            "text/html": [
              "<div>\n",
              "<style scoped>\n",
              "    .dataframe tbody tr th:only-of-type {\n",
              "        vertical-align: middle;\n",
              "    }\n",
              "\n",
              "    .dataframe tbody tr th {\n",
              "        vertical-align: top;\n",
              "    }\n",
              "\n",
              "    .dataframe thead th {\n",
              "        text-align: right;\n",
              "    }\n",
              "</style>\n",
              "<table border=\"1\" class=\"dataframe\">\n",
              "  <thead>\n",
              "    <tr style=\"text-align: right;\">\n",
              "      <th></th>\n",
              "      <th>Model_year</th>\n",
              "      <th>Engine_size(cc)</th>\n",
              "      <th>Lot_no</th>\n",
              "    </tr>\n",
              "  </thead>\n",
              "  <tbody>\n",
              "    <tr>\n",
              "      <th>count</th>\n",
              "      <td>1901.000000</td>\n",
              "      <td>1901.000000</td>\n",
              "      <td>1901.000000</td>\n",
              "    </tr>\n",
              "    <tr>\n",
              "      <th>mean</th>\n",
              "      <td>2009.439769</td>\n",
              "      <td>1420.210416</td>\n",
              "      <td>8.264598</td>\n",
              "    </tr>\n",
              "    <tr>\n",
              "      <th>std</th>\n",
              "      <td>4.098546</td>\n",
              "      <td>507.546885</td>\n",
              "      <td>3.223753</td>\n",
              "    </tr>\n",
              "    <tr>\n",
              "      <th>min</th>\n",
              "      <td>1986.000000</td>\n",
              "      <td>624.000000</td>\n",
              "      <td>1.000000</td>\n",
              "    </tr>\n",
              "    <tr>\n",
              "      <th>25%</th>\n",
              "      <td>2008.000000</td>\n",
              "      <td>1100.000000</td>\n",
              "      <td>6.000000</td>\n",
              "    </tr>\n",
              "    <tr>\n",
              "      <th>50%</th>\n",
              "      <td>2010.000000</td>\n",
              "      <td>1200.000000</td>\n",
              "      <td>8.000000</td>\n",
              "    </tr>\n",
              "    <tr>\n",
              "      <th>75%</th>\n",
              "      <td>2012.000000</td>\n",
              "      <td>1600.000000</td>\n",
              "      <td>10.000000</td>\n",
              "    </tr>\n",
              "    <tr>\n",
              "      <th>max</th>\n",
              "      <td>2019.000000</td>\n",
              "      <td>4400.000000</td>\n",
              "      <td>22.000000</td>\n",
              "    </tr>\n",
              "  </tbody>\n",
              "</table>\n",
              "</div>"
            ],
            "text/plain": [
              "        Model_year  Engine_size(cc)       Lot_no\n",
              "count  1901.000000      1901.000000  1901.000000\n",
              "mean   2009.439769      1420.210416     8.264598\n",
              "std       4.098546       507.546885     3.223753\n",
              "min    1986.000000       624.000000     1.000000\n",
              "25%    2008.000000      1100.000000     6.000000\n",
              "50%    2010.000000      1200.000000     8.000000\n",
              "75%    2012.000000      1600.000000    10.000000\n",
              "max    2019.000000      4400.000000    22.000000"
            ]
          },
          "metadata": {
            "tags": []
          },
          "execution_count": 214
        }
      ]
    },
    {
      "cell_type": "code",
      "metadata": {
        "id": "t5657cVNd21_"
      },
      "source": [
        "df['Price'] = df['Price'].str.replace('Rs.', '').astype(float)\n",
        "df.drop(['Status', 'Brand', 'Model', 'Colour'], inplace=True, axis=1)\n",
        "df = df.dropna(how='any', axis=0)"
      ],
      "execution_count": 215,
      "outputs": []
    },
    {
      "cell_type": "code",
      "metadata": {
        "id": "Qx6q6rgDfpeh",
        "outputId": "6f1b5268-9637-4da4-eba0-51252ee38489",
        "colab": {
          "base_uri": "https://localhost:8080/"
        }
      },
      "source": [
        "df.columns"
      ],
      "execution_count": 216,
      "outputs": [
        {
          "output_type": "execute_result",
          "data": {
            "text/plain": [
              "Index(['Model_year', 'Transmission', 'Engine_size(cc)', 'Drivetrain',\n",
              "       'Fuel_type', 'Lot_no', 'Kilometer', 'Price'],\n",
              "      dtype='object')"
            ]
          },
          "metadata": {
            "tags": []
          },
          "execution_count": 216
        }
      ]
    },
    {
      "cell_type": "code",
      "metadata": {
        "id": "hbQJAw9rf4wy",
        "outputId": "ee46ccc9-0c37-4142-9623-fffbb32935b9",
        "colab": {
          "base_uri": "https://localhost:8080/"
        }
      },
      "source": [
        "print('Model_year: ', df['Model_year'].unique())\n",
        "print('Transmission: ', df['Transmission'].unique())\n",
        "print('Engine_size: ', df['Engine_size(cc)'].unique())\n",
        "print('Drivetrain: ', df['Drivetrain'].unique())\n",
        "print('Lot_no: ', df['Lot_no'].unique())\n",
        "print('Kilometer: ', df['Kilometer'].unique())\n",
        "print('Price: ', df['Price'].unique())"
      ],
      "execution_count": 217,
      "outputs": [
        {
          "output_type": "stream",
          "text": [
            "Model_year:  [2009. 2015. 2010. 2012. 2011. 2008. 2007. 2013. 2006. 2003. 1999. 2018.\n",
            " 2014. 2017. 2016. 2019. 2004. 2005. 2002. 2001. 2000. 1995. 1996. 1997.\n",
            " 1998. 1992. 1989. 1991. 1986. 1990. 1994. 1987.]\n",
            "Transmission:  [' Manual' ' Automatic' ' ']\n",
            "Engine_size:  [1150. 2000. 1000. 1200. 2500. 1300. 1400. 1600.  800. 1500. 3000. 1490.\n",
            " 1497. 1997. 1800. 1900. 1198. 1495. 1197. 1498. 1487. 1977. 1100. 1350.\n",
            " 1250. 2200. 2400. 2800. 2600. 2450. 1061. 1196. 1298.  880. 1297. 1199.\n",
            " 1299. 1597. 1596. 1896. 1798. 1598. 1968. 2956. 2179. 1248. 2900. 1405.\n",
            "  625. 2999.  702. 1459.  624. 2100. 2523. 2997.  650. 1450. 1948. 1396.\n",
            " 1385. 2897. 2494. 2982. 4200. 2986. 4400. 1496. 1984. 1599. 1595.]\n",
            "Drivetrain:  [' 2WD' ' 4WD']\n",
            "Lot_no:  [ 6.  8.  9.  3.  7. 10. 15.  1. 12.  5. 11. 13. 14.  4. 21. 22. 16. 20.\n",
            "  2. 19. 17. 18.]\n",
            "Kilometer:  [200 100 42000 51000 38000 15000 35000 36800 26000 70000 45000 17000 40000\n",
            " 27000 34000 36000 53000 30000 41000 62000 46471 50500 34500 48000 52000\n",
            " 46000 25000 60000 50000 3800 61500 43000 13000 29000 32000 28000 19000\n",
            " 35378 9500 42083 22000 10000 18300 20000 28500 79000 83518 47000 16000\n",
            " 37000 90000 72000 31000 7000 33000 16401 12800 41500 23500 5000 55000\n",
            " 15600 12300 44000 42500 4500 39000 8000 40500 47500 18000 26450 11000\n",
            " 38500 37500 7900 300 600 27500 4300 370 5185 4900 1700 2400 21000 23000\n",
            " 18500 14000 6000 95000 4200 6500 6400 27100 65000 24000 4000 9100 15800\n",
            " 12000 2200 10500 8900 63000 13600 45606 2015 57000 50010 27600 49000\n",
            " 56000 47900 32100 7231 38300 80000 75000 82000 9900 38600 59000 27005\n",
            " 7500 61000 38255 5200 74000 44500 65700 35600 32400 85000 15500 67000\n",
            " 56700 77000 9000 26600 56581 49723 25500 64400 22500 400 5500 1991 1500\n",
            " 10900 19200 54000 30400 68600 35500 30450 58564 27900 31200 41300 46700\n",
            " 76000 25100 11700 59675 7100 58000 3000 31442 120000 27950 64272 45890\n",
            " 66000 36195 81000 350000 14135 78000 59336 63100 16630 12500 31800 6660\n",
            " 3500 3700 24500 6700 1200 27050 105000 12700 25800 51115 58400 29660\n",
            " 28338 29376 43623 34859 62500 95014 360000 69000 35400 8500 1995 47251\n",
            " 20800 33500 32287 48074 88000 19750 17500 73000 60300 72363 71118 44436\n",
            " 110000 170000 150000 203000 63812 47649 7800 67874 200000 332000 2800\n",
            " 27984 87000 65500 1000 179000 100000 3200 60264 47570 36893 76342 29500\n",
            " 48536 57500 68990 68000 51500 46500 48700 55900 14500 18373 1800 33333\n",
            " 12880 68700 33300 140000 6600 695000 3400 5900 50806 180000 39900 69079\n",
            " 9800 67003 26447 59700 43500 12345 64000 57773 61483 43828 13500 7200\n",
            " 34216 16300 800000 98000 52300 55700 22606 35265 31059 73060 72300 92000\n",
            " ' ' 500000 92314 109721 109725 94000 12601 150 97800 105700 37200 369\n",
            " 8800 84000 118511 55145 515175 93000 30500 104000 101800 31900 67218\n",
            " 11331 26876 10800 58382 24324 6300 8700]\n",
            "Price:  [9.750000e+05 3.000000e+06 1.000000e+06 1.425000e+06 2.700000e+06\n",
            " 1.250000e+06 1.475000e+06 1.300000e+06 1.150000e+06 9.250000e+05\n",
            " 1.650000e+06 1.100000e+06 1.200000e+06 1.075000e+06 1.275000e+06\n",
            " 1.100000e+05 1.450000e+06 1.050000e+06 3.500000e+06 5.000000e+06\n",
            " 1.400000e+06 3.750000e+06 4.000000e+06 1.600000e+06 1.700000e+06\n",
            " 1.350000e+06 1.550000e+06 1.695000e+06 2.000000e+06 4.200000e+06\n",
            " 1.575000e+06 2.300000e+06 5.200000e+06 1.125000e+06 1.725000e+06\n",
            " 2.200000e+06 1.500000e+06 1.325000e+06 6.200000e+06 1.800000e+06\n",
            " 1.499999e+06 2.350000e+06 5.500000e+05 1.375000e+06 6.750000e+05\n",
            " 4.500000e+05 3.300000e+06 2.600000e+06 1.700000e+04 1.850000e+06\n",
            " 3.100000e+06 2.400000e+06 1.950000e+06 2.900000e+06 2.500000e+06\n",
            " 2.600000e+05 3.400000e+06 2.250000e+06 4.950000e+06 2.800000e+06\n",
            " 2.080000e+06 1.750000e+06 1.525000e+06 2.000000e+05 3.550000e+06\n",
            " 1.435000e+06 3.800000e+06 2.450000e+06 4.500000e+06 3.275000e+06\n",
            " 4.350000e+06 2.380000e+06 3.999000e+06 4.250000e+05 1.574997e+06\n",
            " 3.700000e+06 2.650000e+06 4.150000e+06 1.775000e+06 7.000000e+06\n",
            " 1.925000e+06 2.025000e+06 1.900000e+06 2.150000e+06 3.250000e+06\n",
            " 1.675000e+06 3.350000e+06 1.590000e+06 2.850000e+06 3.450000e+06\n",
            " 1.875000e+06 4.151000e+06 2.325000e+06 2.750000e+06 4.600000e+06\n",
            " 4.900000e+06 2.550000e+06 3.150000e+06 4.800000e+06 2.955000e+07\n",
            " 9.500000e+05 2.950000e+06 6.000000e+05 1.720000e+06 2.775000e+06\n",
            " 1.215000e+06 2.175000e+06 2.050000e+06 1.225000e+06 2.975000e+06\n",
            " 2.100000e+06 2.196000e+06 3.200000e+06 1.089996e+06 1.180000e+06\n",
            " 6.250000e+05 6.300000e+05 2.455000e+06 6.900000e+05 1.380000e+06\n",
            " 1.235000e+06 1.410000e+06 1.099999e+06 5.250000e+05 2.375000e+06\n",
            " 1.135000e+06 7.500000e+05 1.585000e+06 8.500000e+05 1.790000e+06\n",
            " 5.900000e+05 1.175000e+06 7.750000e+05 3.349000e+06 1.795000e+06\n",
            " 1.090000e+06 1.540000e+06 1.665000e+06 9.000000e+05 7.250000e+05\n",
            " 1.860000e+06 1.445000e+06 1.310000e+06 1.345000e+06 5.800000e+06\n",
            " 2.011000e+03 1.025000e+06 2.125000e+06 1.625000e+06 8.000000e+05\n",
            " 1.324999e+06 2.725000e+06 1.170000e+06 5.050000e+06 1.545000e+06\n",
            " 3.199999e+06 1.355000e+06 1.360000e+06 1.975000e+06 1.550000e+05\n",
            " 6.500000e+05 6.000000e+06 2.076000e+06 5.575000e+06 1.390000e+06\n",
            " 2.500000e+05 7.000000e+05 2.475000e+06 5.200000e+05 8.250000e+05\n",
            " 7.800000e+05 1.680000e+06 5.100000e+05 1.520000e+06 1.705000e+06\n",
            " 1.824000e+06 1.825000e+06 2.425000e+06 1.333333e+06 2.154993e+06\n",
            " 1.190000e+06 3.175000e+06 8.450000e+05 7.850000e+05 1.315000e+06\n",
            " 1.765000e+06 1.700000e+05 1.849000e+06 1.530000e+06 1.140000e+06\n",
            " 1.195000e+06 1.395000e+06 1.265000e+06 1.290000e+06 1.460000e+06\n",
            " 2.499000e+06 1.340000e+06 1.899999e+06 1.990000e+06 1.440000e+06\n",
            " 1.025000e+05 1.240000e+06 1.515000e+06 1.690000e+06 5.600000e+06\n",
            " 1.385000e+06 5.700000e+06 3.600000e+06 8.700000e+05 5.250000e+06\n",
            " 1.260000e+06 4.400000e+06 8.750000e+05 4.099999e+06 5.500000e+06\n",
            " 3.000000e+05 7.500000e+06 4.550000e+06 5.100000e+06 8.800000e+05\n",
            " 5.025000e+06 6.150000e+05 5.750000e+06 5.450000e+06 8.900000e+05\n",
            " 7.900000e+05 7.700000e+06 8.500000e+06 6.800000e+05 9.800000e+06\n",
            " 9.200000e+06 8.000000e+06 5.400000e+06 4.300000e+06 3.200000e+07\n",
            " 2.275000e+06 2.825000e+06 3.850000e+06 4.450000e+06 8.600000e+05\n",
            " 4.700000e+06 4.850000e+06 3.149999e+06 4.375000e+06 2.875000e+06\n",
            " 2.220000e+06 3.950000e+06 5.750000e+05 4.000000e+05 1.175000e+05\n",
            " 7.100000e+05 3.500000e+05 2.479000e+06 9.600000e+05 2.250000e+05\n",
            " 2.049000e+06 1.479000e+06 1.099000e+06 2.199000e+06 1.130000e+06\n",
            " 4.240000e+05 2.295000e+06 1.399000e+06 2.225000e+06 1.160000e+06\n",
            " 3.250000e+05 4.600000e+05 3.900000e+05 4.650000e+05 1.450000e+05\n",
            " 9.150000e+05 2.525000e+06 2.490000e+06 5.550000e+05 2.575000e+06\n",
            " 1.199999e+06 5.000000e+05 1.095000e+06 1.210000e+06 7.360000e+05\n",
            " 1.245000e+06 9.100000e+05 6.600000e+05 7.150000e+05 4.750000e+05\n",
            " 1.499000e+06 9.900000e+05 2.675000e+06 3.650000e+06 9.300000e+05\n",
            " 4.999990e+05 6.666660e+05 1.230000e+06 5.650000e+05 4.370000e+05\n",
            " 6.450000e+05 7.700000e+05 3.800000e+05 6.100000e+05 4.800000e+05\n",
            " 5.950000e+05 1.150000e+07 6.775000e+06 6.550000e+06 6.500000e+06\n",
            " 6.700000e+06 5.045000e+06 3.225000e+06 2.400000e+05 4.275000e+06\n",
            " 3.900000e+06 4.550000e+05 9.000000e+06 5.275000e+06 5.300000e+06\n",
            " 9.100000e+06 9.500000e+06 1.680000e+07 2.000000e+07 5.150000e+06\n",
            " 1.897500e+07 3.675000e+06 4.075000e+06 4.650000e+06 4.100000e+06\n",
            " 1.700000e+07 9.699000e+06 2.075000e+06 4.750000e+06 6.100000e+06\n",
            " 3.480000e+06 5.350000e+06 6.350000e+06 8.050000e+06 1.000000e+07\n",
            " 7.450000e+06 5.650000e+06 1.995000e+06 6.175000e+06 3.555555e+06]\n"
          ],
          "name": "stdout"
        }
      ]
    },
    {
      "cell_type": "code",
      "metadata": {
        "id": "_zSh1PEGl2cI",
        "outputId": "177bdb5a-787a-4a3a-8fa6-bdda38a8a81d",
        "colab": {
          "base_uri": "https://localhost:8080/",
          "height": 206
        }
      },
      "source": [
        "df_new = df\n",
        "df_new['Model_year'] = df_new['Model_year'].astype(int)\n",
        "df_new.head()"
      ],
      "execution_count": 218,
      "outputs": [
        {
          "output_type": "execute_result",
          "data": {
            "text/html": [
              "<div>\n",
              "<style scoped>\n",
              "    .dataframe tbody tr th:only-of-type {\n",
              "        vertical-align: middle;\n",
              "    }\n",
              "\n",
              "    .dataframe tbody tr th {\n",
              "        vertical-align: top;\n",
              "    }\n",
              "\n",
              "    .dataframe thead th {\n",
              "        text-align: right;\n",
              "    }\n",
              "</style>\n",
              "<table border=\"1\" class=\"dataframe\">\n",
              "  <thead>\n",
              "    <tr style=\"text-align: right;\">\n",
              "      <th></th>\n",
              "      <th>Model_year</th>\n",
              "      <th>Transmission</th>\n",
              "      <th>Engine_size(cc)</th>\n",
              "      <th>Drivetrain</th>\n",
              "      <th>Fuel_type</th>\n",
              "      <th>Lot_no</th>\n",
              "      <th>Kilometer</th>\n",
              "      <th>Price</th>\n",
              "    </tr>\n",
              "  </thead>\n",
              "  <tbody>\n",
              "    <tr>\n",
              "      <th>0</th>\n",
              "      <td>2009</td>\n",
              "      <td>Manual</td>\n",
              "      <td>1150.0</td>\n",
              "      <td>2WD</td>\n",
              "      <td>Petrol</td>\n",
              "      <td>6.0</td>\n",
              "      <td>200</td>\n",
              "      <td>975000.0</td>\n",
              "    </tr>\n",
              "    <tr>\n",
              "      <th>1</th>\n",
              "      <td>2015</td>\n",
              "      <td>Automatic</td>\n",
              "      <td>2000.0</td>\n",
              "      <td>4WD</td>\n",
              "      <td>Diesel</td>\n",
              "      <td>8.0</td>\n",
              "      <td>100</td>\n",
              "      <td>3000000.0</td>\n",
              "    </tr>\n",
              "    <tr>\n",
              "      <th>2</th>\n",
              "      <td>2009</td>\n",
              "      <td>Manual</td>\n",
              "      <td>1150.0</td>\n",
              "      <td>2WD</td>\n",
              "      <td>Petrol</td>\n",
              "      <td>6.0</td>\n",
              "      <td>42000</td>\n",
              "      <td>975000.0</td>\n",
              "    </tr>\n",
              "    <tr>\n",
              "      <th>3</th>\n",
              "      <td>2010</td>\n",
              "      <td>Automatic</td>\n",
              "      <td>2000.0</td>\n",
              "      <td>4WD</td>\n",
              "      <td>Diesel</td>\n",
              "      <td>8.0</td>\n",
              "      <td>51000</td>\n",
              "      <td>3000000.0</td>\n",
              "    </tr>\n",
              "    <tr>\n",
              "      <th>4</th>\n",
              "      <td>2012</td>\n",
              "      <td>Manual</td>\n",
              "      <td>1000.0</td>\n",
              "      <td>2WD</td>\n",
              "      <td>Petrol</td>\n",
              "      <td>9.0</td>\n",
              "      <td>38000</td>\n",
              "      <td>1000000.0</td>\n",
              "    </tr>\n",
              "  </tbody>\n",
              "</table>\n",
              "</div>"
            ],
            "text/plain": [
              "   Model_year Transmission  Engine_size(cc)  ... Lot_no Kilometer      Price\n",
              "0        2009       Manual           1150.0  ...    6.0       200   975000.0\n",
              "1        2015    Automatic           2000.0  ...    8.0       100  3000000.0\n",
              "2        2009       Manual           1150.0  ...    6.0     42000   975000.0\n",
              "3        2010    Automatic           2000.0  ...    8.0     51000  3000000.0\n",
              "4        2012       Manual           1000.0  ...    9.0     38000  1000000.0\n",
              "\n",
              "[5 rows x 8 columns]"
            ]
          },
          "metadata": {
            "tags": []
          },
          "execution_count": 218
        }
      ]
    },
    {
      "cell_type": "code",
      "metadata": {
        "id": "PoOCkP8rd3Es"
      },
      "source": [
        "years_old = 2020 - df_new['Model_year']\n",
        "df_new['Years_old']=years_old"
      ],
      "execution_count": 219,
      "outputs": []
    },
    {
      "cell_type": "code",
      "metadata": {
        "id": "jQL0rZdqd3Kg",
        "outputId": "168177a2-999b-4a89-a50c-0b21ca4638bc",
        "colab": {
          "base_uri": "https://localhost:8080/",
          "height": 206
        }
      },
      "source": [
        "df_new.head()"
      ],
      "execution_count": 220,
      "outputs": [
        {
          "output_type": "execute_result",
          "data": {
            "text/html": [
              "<div>\n",
              "<style scoped>\n",
              "    .dataframe tbody tr th:only-of-type {\n",
              "        vertical-align: middle;\n",
              "    }\n",
              "\n",
              "    .dataframe tbody tr th {\n",
              "        vertical-align: top;\n",
              "    }\n",
              "\n",
              "    .dataframe thead th {\n",
              "        text-align: right;\n",
              "    }\n",
              "</style>\n",
              "<table border=\"1\" class=\"dataframe\">\n",
              "  <thead>\n",
              "    <tr style=\"text-align: right;\">\n",
              "      <th></th>\n",
              "      <th>Model_year</th>\n",
              "      <th>Transmission</th>\n",
              "      <th>Engine_size(cc)</th>\n",
              "      <th>Drivetrain</th>\n",
              "      <th>Fuel_type</th>\n",
              "      <th>Lot_no</th>\n",
              "      <th>Kilometer</th>\n",
              "      <th>Price</th>\n",
              "      <th>Years_old</th>\n",
              "    </tr>\n",
              "  </thead>\n",
              "  <tbody>\n",
              "    <tr>\n",
              "      <th>0</th>\n",
              "      <td>2009</td>\n",
              "      <td>Manual</td>\n",
              "      <td>1150.0</td>\n",
              "      <td>2WD</td>\n",
              "      <td>Petrol</td>\n",
              "      <td>6.0</td>\n",
              "      <td>200</td>\n",
              "      <td>975000.0</td>\n",
              "      <td>11</td>\n",
              "    </tr>\n",
              "    <tr>\n",
              "      <th>1</th>\n",
              "      <td>2015</td>\n",
              "      <td>Automatic</td>\n",
              "      <td>2000.0</td>\n",
              "      <td>4WD</td>\n",
              "      <td>Diesel</td>\n",
              "      <td>8.0</td>\n",
              "      <td>100</td>\n",
              "      <td>3000000.0</td>\n",
              "      <td>5</td>\n",
              "    </tr>\n",
              "    <tr>\n",
              "      <th>2</th>\n",
              "      <td>2009</td>\n",
              "      <td>Manual</td>\n",
              "      <td>1150.0</td>\n",
              "      <td>2WD</td>\n",
              "      <td>Petrol</td>\n",
              "      <td>6.0</td>\n",
              "      <td>42000</td>\n",
              "      <td>975000.0</td>\n",
              "      <td>11</td>\n",
              "    </tr>\n",
              "    <tr>\n",
              "      <th>3</th>\n",
              "      <td>2010</td>\n",
              "      <td>Automatic</td>\n",
              "      <td>2000.0</td>\n",
              "      <td>4WD</td>\n",
              "      <td>Diesel</td>\n",
              "      <td>8.0</td>\n",
              "      <td>51000</td>\n",
              "      <td>3000000.0</td>\n",
              "      <td>10</td>\n",
              "    </tr>\n",
              "    <tr>\n",
              "      <th>4</th>\n",
              "      <td>2012</td>\n",
              "      <td>Manual</td>\n",
              "      <td>1000.0</td>\n",
              "      <td>2WD</td>\n",
              "      <td>Petrol</td>\n",
              "      <td>9.0</td>\n",
              "      <td>38000</td>\n",
              "      <td>1000000.0</td>\n",
              "      <td>8</td>\n",
              "    </tr>\n",
              "  </tbody>\n",
              "</table>\n",
              "</div>"
            ],
            "text/plain": [
              "   Model_year Transmission  Engine_size(cc)  ... Kilometer      Price  Years_old\n",
              "0        2009       Manual           1150.0  ...       200   975000.0         11\n",
              "1        2015    Automatic           2000.0  ...       100  3000000.0          5\n",
              "2        2009       Manual           1150.0  ...     42000   975000.0         11\n",
              "3        2010    Automatic           2000.0  ...     51000  3000000.0         10\n",
              "4        2012       Manual           1000.0  ...     38000  1000000.0          8\n",
              "\n",
              "[5 rows x 9 columns]"
            ]
          },
          "metadata": {
            "tags": []
          },
          "execution_count": 220
        }
      ]
    },
    {
      "cell_type": "code",
      "metadata": {
        "id": "lGYgmO2Nd3Q5"
      },
      "source": [
        "df_new.drop(columns=['Model_year'], inplace=True)"
      ],
      "execution_count": 221,
      "outputs": []
    },
    {
      "cell_type": "code",
      "metadata": {
        "id": "zcoOJgNGd3XY"
      },
      "source": [
        ""
      ],
      "execution_count": 221,
      "outputs": []
    },
    {
      "cell_type": "code",
      "metadata": {
        "id": "KiaC2D3Od3eR",
        "outputId": "6bb4b79b-5f18-46e1-a405-d77b5b8698fb",
        "colab": {
          "base_uri": "https://localhost:8080/",
          "height": 363
        }
      },
      "source": [
        "df_dummies = pd.get_dummies(data=df_new, columns = ['Transmission', 'Drivetrain', 'Fuel_type'])\n",
        "df_dummies.head(10)"
      ],
      "execution_count": 222,
      "outputs": [
        {
          "output_type": "execute_result",
          "data": {
            "text/html": [
              "<div>\n",
              "<style scoped>\n",
              "    .dataframe tbody tr th:only-of-type {\n",
              "        vertical-align: middle;\n",
              "    }\n",
              "\n",
              "    .dataframe tbody tr th {\n",
              "        vertical-align: top;\n",
              "    }\n",
              "\n",
              "    .dataframe thead th {\n",
              "        text-align: right;\n",
              "    }\n",
              "</style>\n",
              "<table border=\"1\" class=\"dataframe\">\n",
              "  <thead>\n",
              "    <tr style=\"text-align: right;\">\n",
              "      <th></th>\n",
              "      <th>Engine_size(cc)</th>\n",
              "      <th>Lot_no</th>\n",
              "      <th>Kilometer</th>\n",
              "      <th>Price</th>\n",
              "      <th>Years_old</th>\n",
              "      <th>Transmission_</th>\n",
              "      <th>Transmission_ Automatic</th>\n",
              "      <th>Transmission_ Manual</th>\n",
              "      <th>Drivetrain_ 2WD</th>\n",
              "      <th>Drivetrain_ 4WD</th>\n",
              "      <th>Fuel_type_ Diesel</th>\n",
              "      <th>Fuel_type_ Petrol</th>\n",
              "    </tr>\n",
              "  </thead>\n",
              "  <tbody>\n",
              "    <tr>\n",
              "      <th>0</th>\n",
              "      <td>1150.0</td>\n",
              "      <td>6.0</td>\n",
              "      <td>200</td>\n",
              "      <td>975000.0</td>\n",
              "      <td>11</td>\n",
              "      <td>0</td>\n",
              "      <td>0</td>\n",
              "      <td>1</td>\n",
              "      <td>1</td>\n",
              "      <td>0</td>\n",
              "      <td>0</td>\n",
              "      <td>1</td>\n",
              "    </tr>\n",
              "    <tr>\n",
              "      <th>1</th>\n",
              "      <td>2000.0</td>\n",
              "      <td>8.0</td>\n",
              "      <td>100</td>\n",
              "      <td>3000000.0</td>\n",
              "      <td>5</td>\n",
              "      <td>0</td>\n",
              "      <td>1</td>\n",
              "      <td>0</td>\n",
              "      <td>0</td>\n",
              "      <td>1</td>\n",
              "      <td>1</td>\n",
              "      <td>0</td>\n",
              "    </tr>\n",
              "    <tr>\n",
              "      <th>2</th>\n",
              "      <td>1150.0</td>\n",
              "      <td>6.0</td>\n",
              "      <td>42000</td>\n",
              "      <td>975000.0</td>\n",
              "      <td>11</td>\n",
              "      <td>0</td>\n",
              "      <td>0</td>\n",
              "      <td>1</td>\n",
              "      <td>1</td>\n",
              "      <td>0</td>\n",
              "      <td>0</td>\n",
              "      <td>1</td>\n",
              "    </tr>\n",
              "    <tr>\n",
              "      <th>3</th>\n",
              "      <td>2000.0</td>\n",
              "      <td>8.0</td>\n",
              "      <td>51000</td>\n",
              "      <td>3000000.0</td>\n",
              "      <td>10</td>\n",
              "      <td>0</td>\n",
              "      <td>1</td>\n",
              "      <td>0</td>\n",
              "      <td>0</td>\n",
              "      <td>1</td>\n",
              "      <td>1</td>\n",
              "      <td>0</td>\n",
              "    </tr>\n",
              "    <tr>\n",
              "      <th>4</th>\n",
              "      <td>1000.0</td>\n",
              "      <td>9.0</td>\n",
              "      <td>38000</td>\n",
              "      <td>1000000.0</td>\n",
              "      <td>8</td>\n",
              "      <td>0</td>\n",
              "      <td>0</td>\n",
              "      <td>1</td>\n",
              "      <td>1</td>\n",
              "      <td>0</td>\n",
              "      <td>0</td>\n",
              "      <td>1</td>\n",
              "    </tr>\n",
              "    <tr>\n",
              "      <th>5</th>\n",
              "      <td>1200.0</td>\n",
              "      <td>8.0</td>\n",
              "      <td>15000</td>\n",
              "      <td>1425000.0</td>\n",
              "      <td>10</td>\n",
              "      <td>0</td>\n",
              "      <td>0</td>\n",
              "      <td>1</td>\n",
              "      <td>1</td>\n",
              "      <td>0</td>\n",
              "      <td>0</td>\n",
              "      <td>1</td>\n",
              "    </tr>\n",
              "    <tr>\n",
              "      <th>6</th>\n",
              "      <td>2500.0</td>\n",
              "      <td>3.0</td>\n",
              "      <td>35000</td>\n",
              "      <td>2700000.0</td>\n",
              "      <td>9</td>\n",
              "      <td>0</td>\n",
              "      <td>0</td>\n",
              "      <td>1</td>\n",
              "      <td>1</td>\n",
              "      <td>0</td>\n",
              "      <td>1</td>\n",
              "      <td>0</td>\n",
              "    </tr>\n",
              "    <tr>\n",
              "      <th>7</th>\n",
              "      <td>1200.0</td>\n",
              "      <td>8.0</td>\n",
              "      <td>36800</td>\n",
              "      <td>1250000.0</td>\n",
              "      <td>12</td>\n",
              "      <td>0</td>\n",
              "      <td>0</td>\n",
              "      <td>1</td>\n",
              "      <td>1</td>\n",
              "      <td>0</td>\n",
              "      <td>0</td>\n",
              "      <td>1</td>\n",
              "    </tr>\n",
              "    <tr>\n",
              "      <th>8</th>\n",
              "      <td>1300.0</td>\n",
              "      <td>9.0</td>\n",
              "      <td>26000</td>\n",
              "      <td>1475000.0</td>\n",
              "      <td>8</td>\n",
              "      <td>0</td>\n",
              "      <td>0</td>\n",
              "      <td>1</td>\n",
              "      <td>1</td>\n",
              "      <td>0</td>\n",
              "      <td>0</td>\n",
              "      <td>1</td>\n",
              "    </tr>\n",
              "    <tr>\n",
              "      <th>9</th>\n",
              "      <td>1200.0</td>\n",
              "      <td>9.0</td>\n",
              "      <td>70000</td>\n",
              "      <td>1300000.0</td>\n",
              "      <td>8</td>\n",
              "      <td>0</td>\n",
              "      <td>0</td>\n",
              "      <td>1</td>\n",
              "      <td>1</td>\n",
              "      <td>0</td>\n",
              "      <td>0</td>\n",
              "      <td>1</td>\n",
              "    </tr>\n",
              "  </tbody>\n",
              "</table>\n",
              "</div>"
            ],
            "text/plain": [
              "   Engine_size(cc)  Lot_no  ... Fuel_type_ Diesel  Fuel_type_ Petrol\n",
              "0           1150.0     6.0  ...                 0                  1\n",
              "1           2000.0     8.0  ...                 1                  0\n",
              "2           1150.0     6.0  ...                 0                  1\n",
              "3           2000.0     8.0  ...                 1                  0\n",
              "4           1000.0     9.0  ...                 0                  1\n",
              "5           1200.0     8.0  ...                 0                  1\n",
              "6           2500.0     3.0  ...                 1                  0\n",
              "7           1200.0     8.0  ...                 0                  1\n",
              "8           1300.0     9.0  ...                 0                  1\n",
              "9           1200.0     9.0  ...                 0                  1\n",
              "\n",
              "[10 rows x 12 columns]"
            ]
          },
          "metadata": {
            "tags": []
          },
          "execution_count": 222
        }
      ]
    },
    {
      "cell_type": "code",
      "metadata": {
        "id": "z_xdcUhwd3lC",
        "outputId": "7a954ccf-2438-45b9-97c1-5465e874c50b",
        "colab": {
          "base_uri": "https://localhost:8080/"
        }
      },
      "source": [
        "df_dummies.dtypes"
      ],
      "execution_count": 223,
      "outputs": [
        {
          "output_type": "execute_result",
          "data": {
            "text/plain": [
              "Engine_size(cc)            float64\n",
              "Lot_no                     float64\n",
              "Kilometer                   object\n",
              "Price                      float64\n",
              "Years_old                    int64\n",
              "Transmission_                uint8\n",
              "Transmission_ Automatic      uint8\n",
              "Transmission_ Manual         uint8\n",
              "Drivetrain_ 2WD              uint8\n",
              "Drivetrain_ 4WD              uint8\n",
              "Fuel_type_ Diesel            uint8\n",
              "Fuel_type_ Petrol            uint8\n",
              "dtype: object"
            ]
          },
          "metadata": {
            "tags": []
          },
          "execution_count": 223
        }
      ]
    },
    {
      "cell_type": "code",
      "metadata": {
        "id": "t4kze2VLzk6r"
      },
      "source": [
        "df_dummies = df_dummies.drop(1930)"
      ],
      "execution_count": 224,
      "outputs": []
    },
    {
      "cell_type": "code",
      "metadata": {
        "id": "8pkuaCaI3Scc"
      },
      "source": [
        "df_dummies['Kilometer'] = pd.to_numeric(df_dummies['Kilometer'])"
      ],
      "execution_count": 225,
      "outputs": []
    },
    {
      "cell_type": "code",
      "metadata": {
        "id": "4axh0t8sd3sS",
        "outputId": "8f1a4ff3-7ed9-40e2-a1ca-f4454a6c1558",
        "colab": {
          "base_uri": "https://localhost:8080/",
          "height": 424
        }
      },
      "source": [
        "X = df_dummies.drop('Price', axis=1)\n",
        "X = df_dummies.drop('Price', axis=1)\n",
        "X"
      ],
      "execution_count": 226,
      "outputs": [
        {
          "output_type": "execute_result",
          "data": {
            "text/html": [
              "<div>\n",
              "<style scoped>\n",
              "    .dataframe tbody tr th:only-of-type {\n",
              "        vertical-align: middle;\n",
              "    }\n",
              "\n",
              "    .dataframe tbody tr th {\n",
              "        vertical-align: top;\n",
              "    }\n",
              "\n",
              "    .dataframe thead th {\n",
              "        text-align: right;\n",
              "    }\n",
              "</style>\n",
              "<table border=\"1\" class=\"dataframe\">\n",
              "  <thead>\n",
              "    <tr style=\"text-align: right;\">\n",
              "      <th></th>\n",
              "      <th>Engine_size(cc)</th>\n",
              "      <th>Lot_no</th>\n",
              "      <th>Kilometer</th>\n",
              "      <th>Years_old</th>\n",
              "      <th>Transmission_</th>\n",
              "      <th>Transmission_ Automatic</th>\n",
              "      <th>Transmission_ Manual</th>\n",
              "      <th>Drivetrain_ 2WD</th>\n",
              "      <th>Drivetrain_ 4WD</th>\n",
              "      <th>Fuel_type_ Diesel</th>\n",
              "      <th>Fuel_type_ Petrol</th>\n",
              "    </tr>\n",
              "  </thead>\n",
              "  <tbody>\n",
              "    <tr>\n",
              "      <th>0</th>\n",
              "      <td>1150.0</td>\n",
              "      <td>6.0</td>\n",
              "      <td>200</td>\n",
              "      <td>11</td>\n",
              "      <td>0</td>\n",
              "      <td>0</td>\n",
              "      <td>1</td>\n",
              "      <td>1</td>\n",
              "      <td>0</td>\n",
              "      <td>0</td>\n",
              "      <td>1</td>\n",
              "    </tr>\n",
              "    <tr>\n",
              "      <th>1</th>\n",
              "      <td>2000.0</td>\n",
              "      <td>8.0</td>\n",
              "      <td>100</td>\n",
              "      <td>5</td>\n",
              "      <td>0</td>\n",
              "      <td>1</td>\n",
              "      <td>0</td>\n",
              "      <td>0</td>\n",
              "      <td>1</td>\n",
              "      <td>1</td>\n",
              "      <td>0</td>\n",
              "    </tr>\n",
              "    <tr>\n",
              "      <th>2</th>\n",
              "      <td>1150.0</td>\n",
              "      <td>6.0</td>\n",
              "      <td>42000</td>\n",
              "      <td>11</td>\n",
              "      <td>0</td>\n",
              "      <td>0</td>\n",
              "      <td>1</td>\n",
              "      <td>1</td>\n",
              "      <td>0</td>\n",
              "      <td>0</td>\n",
              "      <td>1</td>\n",
              "    </tr>\n",
              "    <tr>\n",
              "      <th>3</th>\n",
              "      <td>2000.0</td>\n",
              "      <td>8.0</td>\n",
              "      <td>51000</td>\n",
              "      <td>10</td>\n",
              "      <td>0</td>\n",
              "      <td>1</td>\n",
              "      <td>0</td>\n",
              "      <td>0</td>\n",
              "      <td>1</td>\n",
              "      <td>1</td>\n",
              "      <td>0</td>\n",
              "    </tr>\n",
              "    <tr>\n",
              "      <th>4</th>\n",
              "      <td>1000.0</td>\n",
              "      <td>9.0</td>\n",
              "      <td>38000</td>\n",
              "      <td>8</td>\n",
              "      <td>0</td>\n",
              "      <td>0</td>\n",
              "      <td>1</td>\n",
              "      <td>1</td>\n",
              "      <td>0</td>\n",
              "      <td>0</td>\n",
              "      <td>1</td>\n",
              "    </tr>\n",
              "    <tr>\n",
              "      <th>...</th>\n",
              "      <td>...</td>\n",
              "      <td>...</td>\n",
              "      <td>...</td>\n",
              "      <td>...</td>\n",
              "      <td>...</td>\n",
              "      <td>...</td>\n",
              "      <td>...</td>\n",
              "      <td>...</td>\n",
              "      <td>...</td>\n",
              "      <td>...</td>\n",
              "      <td>...</td>\n",
              "    </tr>\n",
              "    <tr>\n",
              "      <th>2210</th>\n",
              "      <td>1600.0</td>\n",
              "      <td>11.0</td>\n",
              "      <td>6300</td>\n",
              "      <td>7</td>\n",
              "      <td>0</td>\n",
              "      <td>0</td>\n",
              "      <td>1</td>\n",
              "      <td>1</td>\n",
              "      <td>0</td>\n",
              "      <td>0</td>\n",
              "      <td>1</td>\n",
              "    </tr>\n",
              "    <tr>\n",
              "      <th>2211</th>\n",
              "      <td>1595.0</td>\n",
              "      <td>8.0</td>\n",
              "      <td>19000</td>\n",
              "      <td>10</td>\n",
              "      <td>0</td>\n",
              "      <td>0</td>\n",
              "      <td>1</td>\n",
              "      <td>1</td>\n",
              "      <td>0</td>\n",
              "      <td>0</td>\n",
              "      <td>1</td>\n",
              "    </tr>\n",
              "    <tr>\n",
              "      <th>2212</th>\n",
              "      <td>1800.0</td>\n",
              "      <td>8.0</td>\n",
              "      <td>11000</td>\n",
              "      <td>10</td>\n",
              "      <td>0</td>\n",
              "      <td>0</td>\n",
              "      <td>1</td>\n",
              "      <td>1</td>\n",
              "      <td>0</td>\n",
              "      <td>0</td>\n",
              "      <td>1</td>\n",
              "    </tr>\n",
              "    <tr>\n",
              "      <th>2214</th>\n",
              "      <td>2000.0</td>\n",
              "      <td>8.0</td>\n",
              "      <td>25000</td>\n",
              "      <td>10</td>\n",
              "      <td>0</td>\n",
              "      <td>0</td>\n",
              "      <td>1</td>\n",
              "      <td>1</td>\n",
              "      <td>0</td>\n",
              "      <td>0</td>\n",
              "      <td>1</td>\n",
              "    </tr>\n",
              "    <tr>\n",
              "      <th>2216</th>\n",
              "      <td>1600.0</td>\n",
              "      <td>11.0</td>\n",
              "      <td>14000</td>\n",
              "      <td>8</td>\n",
              "      <td>0</td>\n",
              "      <td>0</td>\n",
              "      <td>1</td>\n",
              "      <td>1</td>\n",
              "      <td>0</td>\n",
              "      <td>1</td>\n",
              "      <td>0</td>\n",
              "    </tr>\n",
              "  </tbody>\n",
              "</table>\n",
              "<p>1900 rows × 11 columns</p>\n",
              "</div>"
            ],
            "text/plain": [
              "      Engine_size(cc)  Lot_no  ...  Fuel_type_ Diesel  Fuel_type_ Petrol\n",
              "0              1150.0     6.0  ...                  0                  1\n",
              "1              2000.0     8.0  ...                  1                  0\n",
              "2              1150.0     6.0  ...                  0                  1\n",
              "3              2000.0     8.0  ...                  1                  0\n",
              "4              1000.0     9.0  ...                  0                  1\n",
              "...               ...     ...  ...                ...                ...\n",
              "2210           1600.0    11.0  ...                  0                  1\n",
              "2211           1595.0     8.0  ...                  0                  1\n",
              "2212           1800.0     8.0  ...                  0                  1\n",
              "2214           2000.0     8.0  ...                  0                  1\n",
              "2216           1600.0    11.0  ...                  1                  0\n",
              "\n",
              "[1900 rows x 11 columns]"
            ]
          },
          "metadata": {
            "tags": []
          },
          "execution_count": 226
        }
      ]
    },
    {
      "cell_type": "code",
      "metadata": {
        "id": "Y9azNnJ-d3yv",
        "outputId": "81292a3b-6aba-4bc4-8547-fe063b8ca82c",
        "colab": {
          "base_uri": "https://localhost:8080/"
        }
      },
      "source": [
        "y = df_dummies.Price\n",
        "y"
      ],
      "execution_count": 227,
      "outputs": [
        {
          "output_type": "execute_result",
          "data": {
            "text/plain": [
              "0        975000.0\n",
              "1       3000000.0\n",
              "2        975000.0\n",
              "3       3000000.0\n",
              "4       1000000.0\n",
              "          ...    \n",
              "2210    2700000.0\n",
              "2211    3950000.0\n",
              "2212    5800000.0\n",
              "2214    4900000.0\n",
              "2216    3555555.0\n",
              "Name: Price, Length: 1900, dtype: float64"
            ]
          },
          "metadata": {
            "tags": []
          },
          "execution_count": 227
        }
      ]
    },
    {
      "cell_type": "code",
      "metadata": {
        "id": "2ktyHSAhd35V"
      },
      "source": [
        "from sklearn.linear_model import LinearRegression\n",
        "linreg = LinearRegression()"
      ],
      "execution_count": 228,
      "outputs": []
    },
    {
      "cell_type": "code",
      "metadata": {
        "id": "aajJXFVrxKO7",
        "outputId": "67e7f45b-74f3-4fa9-f097-4163c3d3530c",
        "colab": {
          "base_uri": "https://localhost:8080/"
        }
      },
      "source": [
        "linreg.fit(X,y)"
      ],
      "execution_count": 229,
      "outputs": [
        {
          "output_type": "execute_result",
          "data": {
            "text/plain": [
              "LinearRegression(copy_X=True, fit_intercept=True, n_jobs=None, normalize=False)"
            ]
          },
          "metadata": {
            "tags": []
          },
          "execution_count": 229
        }
      ]
    },
    {
      "cell_type": "code",
      "metadata": {
        "id": "f4UWvnX2d3_A",
        "outputId": "3f6f00de-43c2-4461-9c2e-15e80adfe029",
        "colab": {
          "base_uri": "https://localhost:8080/"
        }
      },
      "source": [
        "print(linreg.intercept_)"
      ],
      "execution_count": 230,
      "outputs": [
        {
          "output_type": "stream",
          "text": [
            "1017812.0005029142\n"
          ],
          "name": "stdout"
        }
      ]
    },
    {
      "cell_type": "code",
      "metadata": {
        "id": "_i2e9_yfd4FO"
      },
      "source": [
        "from sklearn.model_selection import train_test_split\n",
        "from sklearn import metrics\n",
        "X_train, X_test, y_train, y_test = train_test_split(X, y, test_size=0.20, random_state=123)\n",
        "linreg = LinearRegression()\n",
        "linreg.fit(X_train, y_train)\n",
        "y_pred = linreg.predict(X_test)"
      ],
      "execution_count": 234,
      "outputs": []
    },
    {
      "cell_type": "code",
      "metadata": {
        "id": "jY9oRV_ed4J3",
        "outputId": "0972c082-654c-4e10-9e22-e212a36a0f73",
        "colab": {
          "base_uri": "https://localhost:8080/"
        }
      },
      "source": [
        "np.sqrt(metrics.mean_squared_error(y_test, y_pred))"
      ],
      "execution_count": 235,
      "outputs": [
        {
          "output_type": "execute_result",
          "data": {
            "text/plain": [
              "945621.4415555653"
            ]
          },
          "metadata": {
            "tags": []
          },
          "execution_count": 235
        }
      ]
    },
    {
      "cell_type": "code",
      "metadata": {
        "id": "GNydHnPtd4O3",
        "outputId": "cecffad0-32ee-4407-c816-01a3acc9940e",
        "colab": {
          "base_uri": "https://localhost:8080/"
        }
      },
      "source": [
        "y_pred = linreg.predict(X_test)\n",
        "print(linreg.score(X_test, y_test)*100, '# Prediction accuracy')"
      ],
      "execution_count": 236,
      "outputs": [
        {
          "output_type": "stream",
          "text": [
            "47.44283163806893 # Prediction accuracy\n"
          ],
          "name": "stdout"
        }
      ]
    },
    {
      "cell_type": "code",
      "metadata": {
        "id": "IQFrXgbQd4TB"
      },
      "source": [
        ""
      ],
      "execution_count": null,
      "outputs": []
    },
    {
      "cell_type": "code",
      "metadata": {
        "id": "8hoq0mQXd4XM"
      },
      "source": [
        ""
      ],
      "execution_count": null,
      "outputs": []
    }
  ]
}